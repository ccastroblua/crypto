{
 "cells": [
  {
   "cell_type": "code",
   "execution_count": 9,
   "id": "bd84880f",
   "metadata": {},
   "outputs": [],
   "source": [
    "import os\n",
    "import dotenv\n",
    "import requests"
   ]
  },
  {
   "cell_type": "code",
   "execution_count": 5,
   "id": "7cd156fc",
   "metadata": {},
   "outputs": [
    {
     "data": {
      "text/plain": [
       "True"
      ]
     },
     "execution_count": 5,
     "metadata": {},
     "output_type": "execute_result"
    }
   ],
   "source": [
    "dotenv.load_dotenv()"
   ]
  },
  {
   "cell_type": "code",
   "execution_count": 15,
   "id": "7a4ebe23",
   "metadata": {},
   "outputs": [],
   "source": [
    "nomics_apikey = os.getenv(\"nomics\")\n",
    "nomics_url = 'https://api.nomics.com/v1/currencies/ticker'"
   ]
  },
  {
   "cell_type": "code",
   "execution_count": 16,
   "id": "f2e4f7c5",
   "metadata": {},
   "outputs": [],
   "source": [
    "parameters = {\n",
    "    'key': nomics_apikey,\n",
    "    'ids': 'ETH',\n",
    "    'interval': '7d',\n",
    "    'convert': 'USD',\n",
    "}"
   ]
  },
  {
   "cell_type": "code",
   "execution_count": 17,
   "id": "6dfd2ade",
   "metadata": {},
   "outputs": [
    {
     "data": {
      "text/plain": [
       "200"
      ]
     },
     "execution_count": 17,
     "metadata": {},
     "output_type": "execute_result"
    }
   ],
   "source": [
    "response = requests.get(\n",
    "    url=nomics_url,\n",
    "    params=parameters)\n",
    "\n",
    "response.status_code"
   ]
  },
  {
   "cell_type": "code",
   "execution_count": 18,
   "id": "c4278179",
   "metadata": {},
   "outputs": [],
   "source": [
    "data = response.json()"
   ]
  },
  {
   "cell_type": "code",
   "execution_count": 19,
   "id": "8f2caf24",
   "metadata": {},
   "outputs": [
    {
     "data": {
      "text/plain": [
       "[{'id': 'ETH',\n",
       "  'currency': 'ETH',\n",
       "  'symbol': 'ETH',\n",
       "  'name': 'Ethereum',\n",
       "  'logo_url': 'https://s3.us-east-2.amazonaws.com/nomics-api/static/images/currencies/eth.svg',\n",
       "  'status': 'active',\n",
       "  'platform_currency': 'ETH',\n",
       "  'price': '4456.93006826',\n",
       "  'price_date': '2021-11-29T00:00:00Z',\n",
       "  'price_timestamp': '2021-11-29T18:19:00Z',\n",
       "  'circulating_supply': '118539718',\n",
       "  'market_cap': '528323232876',\n",
       "  'market_cap_dominance': '0.1929',\n",
       "  'num_exchanges': '435',\n",
       "  'num_pairs': '70221',\n",
       "  'num_pairs_unmapped': '54352',\n",
       "  'first_candle': '2015-08-07T00:00:00Z',\n",
       "  'first_trade': '2015-08-07T00:00:00Z',\n",
       "  'first_order_book': '2018-08-29T00:00:00Z',\n",
       "  'rank': '2',\n",
       "  'rank_delta': '0',\n",
       "  'high': '4811.16377439',\n",
       "  'high_timestamp': '2021-11-08T00:00:00Z',\n",
       "  '7d': {'volume': '207823821523.44',\n",
       "   'price_change': '359.50815003',\n",
       "   'price_change_pct': '0.0877',\n",
       "   'volume_change': '-20307099496.57',\n",
       "   'volume_change_pct': '-0.0890',\n",
       "   'market_cap_change': '42995777800.60',\n",
       "   'market_cap_change_pct': '0.0886'}}]"
      ]
     },
     "execution_count": 19,
     "metadata": {},
     "output_type": "execute_result"
    }
   ],
   "source": [
    "data"
   ]
  },
  {
   "cell_type": "code",
   "execution_count": null,
   "id": "758c5ea1",
   "metadata": {},
   "outputs": [],
   "source": []
  }
 ],
 "metadata": {
  "kernelspec": {
   "display_name": "ironhack2",
   "language": "python",
   "name": "ironhack2"
  },
  "language_info": {
   "codemirror_mode": {
    "name": "ipython",
    "version": 3
   },
   "file_extension": ".py",
   "mimetype": "text/x-python",
   "name": "python",
   "nbconvert_exporter": "python",
   "pygments_lexer": "ipython3",
   "version": "3.8.5"
  }
 },
 "nbformat": 4,
 "nbformat_minor": 5
}
