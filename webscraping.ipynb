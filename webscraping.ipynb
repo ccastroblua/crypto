{
 "cells": [
  {
   "cell_type": "markdown",
   "id": "0991143d",
   "metadata": {},
   "source": [
    "# Objective: Getting price tokens data from main cryptocurrencies webpages:"
   ]
  },
  {
   "cell_type": "code",
   "execution_count": 2,
   "id": "cf24099e",
   "metadata": {},
   "outputs": [],
   "source": [
    "import pandas as pd\n",
    "import requests\n",
    "from bs4 import BeautifulSoup"
   ]
  },
  {
   "cell_type": "markdown",
   "id": "e41a50f2",
   "metadata": {},
   "source": [
    "#### Getting current tickers of some coins:"
   ]
  },
  {
   "cell_type": "code",
   "execution_count": 4,
   "id": "ac06af2b",
   "metadata": {},
   "outputs": [],
   "source": [
    "# Regular url to get coins from COINGECKO:\n",
    "\n",
    "url_coingecko = 'https://www.coingecko.com/en/coins/'\n",
    "\n",
    "# Regular url to get coins from COINMARKETCAP:\n",
    "\n",
    "url_coinmarketcap = 'https://coinmarketcap.com/currencies/'"
   ]
  },
  {
   "cell_type": "markdown",
   "id": "570dcecd",
   "metadata": {},
   "source": [
    "#### Let's use Cryptomines token (ETERNAL) as my first example to get a response webscraping coingecko platform:"
   ]
  },
  {
   "cell_type": "code",
   "execution_count": 5,
   "id": "904b8f1b",
   "metadata": {},
   "outputs": [],
   "source": [
    "url_eternal = url_coingecko + 'cryptomines-eternal'"
   ]
  },
  {
   "cell_type": "code",
   "execution_count": 7,
   "id": "1d12eb24",
   "metadata": {},
   "outputs": [],
   "source": [
    "response = requests.get(url=url_eternal)"
   ]
  },
  {
   "cell_type": "code",
   "execution_count": 8,
   "id": "d9bd4240",
   "metadata": {},
   "outputs": [
    {
     "data": {
      "text/plain": [
       "200"
      ]
     },
     "execution_count": 8,
     "metadata": {},
     "output_type": "execute_result"
    }
   ],
   "source": [
    "response.status_code"
   ]
  },
  {
   "cell_type": "code",
   "execution_count": 12,
   "id": "0c414f35",
   "metadata": {},
   "outputs": [],
   "source": [
    "soup = BeautifulSoup(response.content)"
   ]
  },
  {
   "cell_type": "code",
   "execution_count": 54,
   "id": "958ccdfe",
   "metadata": {},
   "outputs": [
    {
     "data": {
      "text/plain": [
       "<span class=\"no-wrap\" data-coin-id=\"18344\" data-coin-symbol=\"ETERNAL\" data-price-btc=\"0.0094267780254533\" data-target=\"price.price\">$539.29</span>"
      ]
     },
     "execution_count": 54,
     "metadata": {},
     "output_type": "execute_result"
    }
   ],
   "source": [
    "soup.find_all(name='span', class_='no-wrap')[0]"
   ]
  },
  {
   "cell_type": "code",
   "execution_count": 35,
   "id": "9612f508",
   "metadata": {},
   "outputs": [
    {
     "name": "stdout",
     "output_type": "stream",
     "text": [
      "$539.29\n",
      "$459.29\n",
      "$552.90\n",
      "$66,643,750\n",
      "$539.29\n",
      "$66,643,750\n",
      "$459.29\n",
      "$552.90\n",
      "$190.13\n",
      "$546.92\n",
      "$552.90\n",
      "$0.544819\n",
      "$539.29\n",
      "$66,643,750\n"
     ]
    }
   ],
   "source": [
    "for result in soup.find_all(name='span', class_='no-wrap'):\n",
    "    print(result.text)"
   ]
  },
  {
   "cell_type": "code",
   "execution_count": 58,
   "id": "5f168b4a",
   "metadata": {},
   "outputs": [
    {
     "data": {
      "text/plain": [
       "539.29"
      ]
     },
     "execution_count": 58,
     "metadata": {},
     "output_type": "execute_result"
    }
   ],
   "source": [
    "float(soup.find_all(name='span', class_='no-wrap')[0].text[1:])"
   ]
  },
  {
   "cell_type": "markdown",
   "id": "0ae14107",
   "metadata": {},
   "source": [
    "#### Let's do the same with coinmarket cap:"
   ]
  },
  {
   "cell_type": "code",
   "execution_count": 107,
   "id": "cbf2aedb",
   "metadata": {},
   "outputs": [],
   "source": [
    "url_eternal_coinmarketcap = url_coinmarketcap  + 'cryptomines'"
   ]
  },
  {
   "cell_type": "code",
   "execution_count": 108,
   "id": "7fa825f8",
   "metadata": {},
   "outputs": [
    {
     "data": {
      "text/plain": [
       "200"
      ]
     },
     "execution_count": 108,
     "metadata": {},
     "output_type": "execute_result"
    }
   ],
   "source": [
    "response2 = requests.get(url=url_eternal_coinmarketcap)\n",
    "response2.status_code"
   ]
  },
  {
   "cell_type": "code",
   "execution_count": 109,
   "id": "b39741ee",
   "metadata": {},
   "outputs": [],
   "source": [
    "soup2 = BeautifulSoup(response2.content)"
   ]
  },
  {
   "cell_type": "code",
   "execution_count": 110,
   "id": "dbc0fcae",
   "metadata": {},
   "outputs": [
    {
     "data": {
      "text/plain": [
       "544.42"
      ]
     },
     "execution_count": 110,
     "metadata": {},
     "output_type": "execute_result"
    }
   ],
   "source": [
    "# Let's get that data right away:\n",
    "\n",
    "float(soup2.select('body div div div div div div div div div div div span')[4].text[1:])"
   ]
  },
  {
   "cell_type": "code",
   "execution_count": 111,
   "id": "392ab6ff",
   "metadata": {},
   "outputs": [
    {
     "name": "stdout",
     "output_type": "stream",
     "text": [
      "0 New\n",
      "1 New\n",
      "2 New\n",
      "3 New\n",
      "4 $544.42\n",
      "5 Low:\n",
      "6 $459.15\n",
      "7 $459.15\n",
      "8 \n",
      "9 \n",
      "10 High:\n",
      "11 $552.20\n",
      "12 $552.20\n",
      "13 Price: \n",
      "14 15.60%\n",
      "15 \n",
      "16 0.00%\n",
      "17 \n",
      "18 15.60%\n",
      "19 \n",
      "20 2.17%\n",
      "21 \n",
      "22 \n",
      "23 \n",
      "24 \n",
      "25 Binance Smart Chain (BEP20)\n",
      "26 0xD44F...b3FEeA4\n",
      "27 \n",
      "28 \n",
      "29 Binance Smart Chain (BEP20)\n",
      "30 0xD44F...b3FEeA4\n",
      "31 \n",
      "32 \n",
      "33 Binance Smart Chain (BEP20)\n",
      "34 0xD44F...b3FEeA4\n",
      "35 \n",
      "36 \n",
      "37 If you would like to know where to buy CryptoMines, the top cryptocurrency exchanges for trading in CryptoMines stock are currently ZT, PancakeSwap (V2), BKEX, AOFEX,  and BitMart.\n",
      "38 Read More\n",
      "39 Price Change24h\n",
      "40 24h\n",
      "41 $73.48\n",
      "42 15.60%\n",
      "43 \n",
      "44 Trading Volume24h\n",
      "45 24h\n",
      "46 $121,850,839.07\n",
      "47 2.17%\n",
      "48 \n",
      "49 0.00%\n",
      "50 $1,967,948,033.94\n",
      "51 $2,722,079,460.73\n",
      "52 15.60%\n",
      "53 \n",
      "54 $552.20\n",
      "55 1.41%\n",
      "56 \n",
      "57 $0.54\n",
      "58 100723.79%\n",
      "59 \n",
      "60 Hold BNB on Binance\n",
      "61 And Get 25% Off Trading Fees.\n",
      "62 \n",
      "63 Sponsored\n",
      "64 \n",
      "65 TABOO TOKEN\n",
      "66 TABOO\n",
      "67 #303\n",
      "68 \n",
      "69 GAMINGDOGE\n",
      "70 GAMINGDOGE\n",
      "71 #2978\n",
      "72 \n",
      "73 King Shiba\n",
      "74 KINGSHIB\n",
      "75 #1319\n",
      "76 \n",
      "77 MicroPets\n",
      "78 PETS\n",
      "79 #875\n",
      "80 \n",
      "81 Galaxy Heroes Coin\n",
      "82 GHC\n",
      "83 #505\n"
     ]
    }
   ],
   "source": [
    "for i, content in enumerate(soup2.select('body div div div div div div div div div div div span')):\n",
    "    print(i, content.text)"
   ]
  },
  {
   "cell_type": "markdown",
   "id": "2ffe49a5",
   "metadata": {},
   "source": [
    "#### Let's create a function to put everything together:"
   ]
  },
  {
   "cell_type": "code",
   "execution_count": 92,
   "id": "f1609c4f",
   "metadata": {},
   "outputs": [],
   "source": [
    "def get_coin_info(token, tool='coingecko'):\n",
    "    \n",
    "    url_coingecko = 'https://www.coingecko.com/en/coins/'\n",
    "    url_coinmarketcap = 'https://coinmarketcap.com/currencies/'\n",
    "    \n",
    "    if tool == 'coingecko':\n",
    "        \n",
    "        # Webscraping COINGECKO with the specified token:\n",
    "        url = url_coingecko + token\n",
    "        response = requests.get(url=url)\n",
    "        soup = BeautifulSoup(response.content)\n",
    "        \n",
    "        # Getting the price from the soup content:\n",
    "    \n",
    "        price = float(soup.find_all(name='span', class_='no-wrap')[0].text[1:])\n",
    "        \n",
    "    elif tool == 'coinmarketcap':\n",
    "    \n",
    "        # Webscraping COINMARKETCAP with the specified token:\n",
    "        url = url_coinmarketcap + token\n",
    "        response = requests.get(url=url)\n",
    "        soup = BeautifulSoup(response.content)\n",
    "        \n",
    "        price = float(soup.select('body div div div div div div div div div div div span')[4].text[1:])\n",
    "    \n",
    "    else:\n",
    "        raise ValueError(f\"Please select a tool parameter between 'coingecko' and 'coinmarketcap'.\")\n",
    "    \n",
    "    return price"
   ]
  },
  {
   "cell_type": "markdown",
   "id": "bc735dd1",
   "metadata": {},
   "source": [
    "#### Testing function with Cryptomines and BNB in Coingecko platform:"
   ]
  },
  {
   "cell_type": "code",
   "execution_count": 114,
   "id": "ec885a6b",
   "metadata": {},
   "outputs": [
    {
     "data": {
      "text/plain": [
       "549.55"
      ]
     },
     "execution_count": 114,
     "metadata": {},
     "output_type": "execute_result"
    }
   ],
   "source": [
    "get_coin_info('cryptomines-eternal')"
   ]
  },
  {
   "cell_type": "code",
   "execution_count": 95,
   "id": "655887d3",
   "metadata": {},
   "outputs": [
    {
     "data": {
      "text/plain": [
       "600.36"
      ]
     },
     "execution_count": 95,
     "metadata": {},
     "output_type": "execute_result"
    }
   ],
   "source": [
    "get_coin_info(tool='coingecko', token='binance-coin')"
   ]
  },
  {
   "cell_type": "markdown",
   "id": "5732a3fe",
   "metadata": {},
   "source": [
    "#### Testing function in Coinmarketcap platform:"
   ]
  },
  {
   "cell_type": "code",
   "execution_count": 112,
   "id": "38f6248a",
   "metadata": {},
   "outputs": [
    {
     "data": {
      "text/plain": [
       "545.92"
      ]
     },
     "execution_count": 112,
     "metadata": {},
     "output_type": "execute_result"
    }
   ],
   "source": [
    "get_coin_info(tool='coinmarketcap', token='cryptomines')"
   ]
  },
  {
   "cell_type": "code",
   "execution_count": 99,
   "id": "5172043d",
   "metadata": {},
   "outputs": [
    {
     "data": {
      "text/plain": [
       "597.32"
      ]
     },
     "execution_count": 99,
     "metadata": {},
     "output_type": "execute_result"
    }
   ],
   "source": [
    "get_coin_info(tool='coinmarketcap', token='binance-coin')"
   ]
  }
 ],
 "metadata": {
  "kernelspec": {
   "display_name": "ironhack2",
   "language": "python",
   "name": "ironhack2"
  },
  "language_info": {
   "codemirror_mode": {
    "name": "ipython",
    "version": 3
   },
   "file_extension": ".py",
   "mimetype": "text/x-python",
   "name": "python",
   "nbconvert_exporter": "python",
   "pygments_lexer": "ipython3",
   "version": "3.8.5"
  }
 },
 "nbformat": 4,
 "nbformat_minor": 5
}
