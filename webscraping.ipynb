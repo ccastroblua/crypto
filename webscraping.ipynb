{
 "cells": [
  {
   "cell_type": "code",
   "execution_count": 2,
   "id": "c40fb303",
   "metadata": {},
   "outputs": [],
   "source": [
    "import pandas as pd\n",
    "import requests\n",
    "from bs4 import BeautifulSoup"
   ]
  },
  {
   "cell_type": "markdown",
   "id": "0f2d0039",
   "metadata": {},
   "source": [
    "#### Getting current tickers of some coins:"
   ]
  },
  {
   "cell_type": "code",
   "execution_count": 4,
   "id": "9743296d",
   "metadata": {},
   "outputs": [],
   "source": [
    "# Regular url to get coins from COINGECKO:\n",
    "\n",
    "url_coingecko = 'https://www.coingecko.com/en/coins/'\n",
    "\n",
    "# Regular url to get coins from COINMARKETCAP:\n",
    "\n",
    "url_coinmarketcap = 'https://coinmarketcap.com/currencies/'"
   ]
  },
  {
   "cell_type": "markdown",
   "id": "e1bb0306",
   "metadata": {},
   "source": [
    "#### Let's use Cryptomines token (ETERNAL) as my first example to get a response:"
   ]
  },
  {
   "cell_type": "code",
   "execution_count": 5,
   "id": "1c2f46be",
   "metadata": {},
   "outputs": [],
   "source": [
    "url_eternal = url_coingecko + 'cryptomines-eternal'"
   ]
  },
  {
   "cell_type": "code",
   "execution_count": 7,
   "id": "34b21c22",
   "metadata": {},
   "outputs": [],
   "source": [
    "response = requests.get(url=url_eternal)"
   ]
  },
  {
   "cell_type": "code",
   "execution_count": 8,
   "id": "8c16d8a8",
   "metadata": {},
   "outputs": [
    {
     "data": {
      "text/plain": [
       "200"
      ]
     },
     "execution_count": 8,
     "metadata": {},
     "output_type": "execute_result"
    }
   ],
   "source": [
    "response.status_code"
   ]
  },
  {
   "cell_type": "code",
   "execution_count": 12,
   "id": "f0df111c",
   "metadata": {},
   "outputs": [],
   "source": [
    "soup = BeautifulSoup(response.content)"
   ]
  },
  {
   "cell_type": "code",
   "execution_count": 54,
   "id": "ebc6815c",
   "metadata": {},
   "outputs": [
    {
     "data": {
      "text/plain": [
       "<span class=\"no-wrap\" data-coin-id=\"18344\" data-coin-symbol=\"ETERNAL\" data-price-btc=\"0.0094267780254533\" data-target=\"price.price\">$539.29</span>"
      ]
     },
     "execution_count": 54,
     "metadata": {},
     "output_type": "execute_result"
    }
   ],
   "source": [
    "soup.find_all(name='span', class_='no-wrap')[0]"
   ]
  },
  {
   "cell_type": "code",
   "execution_count": 35,
   "id": "f1a36bb2",
   "metadata": {},
   "outputs": [
    {
     "name": "stdout",
     "output_type": "stream",
     "text": [
      "$539.29\n",
      "$459.29\n",
      "$552.90\n",
      "$66,643,750\n",
      "$539.29\n",
      "$66,643,750\n",
      "$459.29\n",
      "$552.90\n",
      "$190.13\n",
      "$546.92\n",
      "$552.90\n",
      "$0.544819\n",
      "$539.29\n",
      "$66,643,750\n"
     ]
    }
   ],
   "source": [
    "for result in soup.find_all(name='span', class_='no-wrap'):\n",
    "    print(result.text)"
   ]
  },
  {
   "cell_type": "code",
   "execution_count": 58,
   "id": "e072dce4",
   "metadata": {},
   "outputs": [
    {
     "data": {
      "text/plain": [
       "539.29"
      ]
     },
     "execution_count": 58,
     "metadata": {},
     "output_type": "execute_result"
    }
   ],
   "source": [
    "float(soup.find_all(name='span', class_='no-wrap')[0].text[1:])"
   ]
  },
  {
   "cell_type": "code",
   "execution_count": 66,
   "id": "922a521b",
   "metadata": {},
   "outputs": [],
   "source": [
    "def get_coin_info(token, tool='coingecko'):\n",
    "    \n",
    "    url_coingecko = 'https://www.coingecko.com/en/coins/'\n",
    "    url_coinmarketcap = 'https://coinmarketcap.com/currencies/'\n",
    "    \n",
    "    if tool == 'coingecko':\n",
    "        \n",
    "        # Webscraping COINGECKO with the specified token:\n",
    "        url = url_coingecko + token\n",
    "        response = requests.get(url=url_eternal)\n",
    "        soup = BeautifulSoup(response.content)\n",
    "        \n",
    "        # Getting the price from the soup content:\n",
    "    \n",
    "        price = float(soup.find_all(name='span', class_='no-wrap')[0].text[1:])\n",
    "        \n",
    "    elif tool == 'coinmarketcap':\n",
    "    \n",
    "        # Webscraping COINMARKETCAP with the specified token:\n",
    "        url = url_coinmarketcap + token\n",
    "        response = requests.get(url=url_eternal)\n",
    "        soup = BeautifulSoup(response.content)\n",
    "    \n",
    "    else:\n",
    "        raise ValueError(f\"Please select a tool parameter between 'coingecko' and 'coinmarketcap'.\")\n",
    "    \n",
    "    return price"
   ]
  },
  {
   "cell_type": "markdown",
   "id": "47f1dfca",
   "metadata": {},
   "source": [
    "#### Testing function with Cryptomines and BNB in Coingecko platform:"
   ]
  },
  {
   "cell_type": "code",
   "execution_count": 64,
   "id": "4fe9246a",
   "metadata": {},
   "outputs": [
    {
     "data": {
      "text/plain": [
       "538.0"
      ]
     },
     "execution_count": 64,
     "metadata": {},
     "output_type": "execute_result"
    }
   ],
   "source": [
    "get_coin_info('cryptomines-eternal')"
   ]
  },
  {
   "cell_type": "code",
   "execution_count": 67,
   "id": "a3eba8a8",
   "metadata": {},
   "outputs": [
    {
     "data": {
      "text/plain": [
       "597.71"
      ]
     },
     "execution_count": 67,
     "metadata": {},
     "output_type": "execute_result"
    }
   ],
   "source": [
    "get_coin_info(tool='coingecko', token='binance-coin')"
   ]
  },
  {
   "cell_type": "markdown",
   "id": "11d94839",
   "metadata": {},
   "source": [
    "#### Testing function in Coinmarketcap platform:"
   ]
  },
  {
   "cell_type": "code",
   "execution_count": null,
   "id": "b199d8ea",
   "metadata": {},
   "outputs": [],
   "source": []
  }
 ],
 "metadata": {
  "kernelspec": {
   "display_name": "ironhack2",
   "language": "python",
   "name": "ironhack2"
  },
  "language_info": {
   "codemirror_mode": {
    "name": "ipython",
    "version": 3
   },
   "file_extension": ".py",
   "mimetype": "text/x-python",
   "name": "python",
   "nbconvert_exporter": "python",
   "pygments_lexer": "ipython3",
   "version": "3.8.5"
  }
 },
 "nbformat": 4,
 "nbformat_minor": 5
}
